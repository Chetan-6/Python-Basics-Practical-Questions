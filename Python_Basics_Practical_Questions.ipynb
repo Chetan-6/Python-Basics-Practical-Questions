{
  "nbformat": 4,
  "nbformat_minor": 0,
  "metadata": {
    "colab": {
      "provenance": []
    },
    "kernelspec": {
      "name": "python3",
      "display_name": "Python 3"
    },
    "language_info": {
      "name": "python"
    }
  },
  "cells": [
    {
      "cell_type": "markdown",
      "source": [],
      "metadata": {
        "id": "YqurmDERFZpF"
      }
    },
    {
      "cell_type": "markdown",
      "source": [
        "# 1) Write a Python program to print \"Hello, World!\"\n"
      ],
      "metadata": {
        "id": "0myqzllvFns0"
      }
    },
    {
      "cell_type": "code",
      "source": [
        "print(\"Hello, World!\")\n"
      ],
      "metadata": {
        "colab": {
          "base_uri": "https://localhost:8080/"
        },
        "id": "7ghFtPkAEwCw",
        "outputId": "661572ae-5299-4002-ade6-03356b2118e9"
      },
      "execution_count": 3,
      "outputs": [
        {
          "output_type": "stream",
          "name": "stdout",
          "text": [
            "Hello, World!\n"
          ]
        }
      ]
    },
    {
      "cell_type": "markdown",
      "source": [
        "# 2)  Write a Python program that displays your name and age."
      ],
      "metadata": {
        "id": "Sv7M687GFyf8"
      }
    },
    {
      "cell_type": "code",
      "source": [
        "name = \"Chetan\"\n",
        "age = 28\n",
        "\n",
        "print(\"=\"*40)\n",
        "print(\"✨ Welcome to My Digital Introduction ✨\")\n",
        "print(\"=\"*40)\n",
        "print(f\"🧑 Name : {name}\")\n",
        "print(f\"🎂 Age  : {age}\")\n",
        "print(\"=\"*40)\n",
        "print(\"🌟 Let’s build something amazing today!\")\n"
      ],
      "metadata": {
        "colab": {
          "base_uri": "https://localhost:8080/"
        },
        "id": "9fYJSsTsGSAd",
        "outputId": "88cf71a2-8f73-4ac3-d584-6203acd1c4d9"
      },
      "execution_count": 5,
      "outputs": [
        {
          "output_type": "stream",
          "name": "stdout",
          "text": [
            "========================================\n",
            "✨ Welcome to My Digital Introduction ✨\n",
            "========================================\n",
            "🧑 Name : Chetan\n",
            "🎂 Age  : 28\n",
            "========================================\n",
            "🌟 Let’s build something amazing today!\n"
          ]
        }
      ]
    },
    {
      "cell_type": "markdown",
      "source": [
        "# 3) Write code to print all the pre-defined keywords in Python using the keyword library."
      ],
      "metadata": {
        "id": "QoMcDFXBF2Cl"
      }
    },
    {
      "cell_type": "code",
      "source": [
        "import keyword\n",
        "\n",
        "# Get the list of all keywords\n",
        "keywords_list = keyword.kwlist\n",
        "\n",
        "print(\"📝 Python Keywords:\")\n",
        "print(\"===================\")\n",
        "for kw in keywords_list:\n",
        "    print(kw)\n"
      ],
      "metadata": {
        "colab": {
          "base_uri": "https://localhost:8080/"
        },
        "id": "2-dZyZ2hGjU0",
        "outputId": "323ffe3f-705d-4d33-a19c-7ce4cbdfd488"
      },
      "execution_count": 6,
      "outputs": [
        {
          "output_type": "stream",
          "name": "stdout",
          "text": [
            "📝 Python Keywords:\n",
            "===================\n",
            "False\n",
            "None\n",
            "True\n",
            "and\n",
            "as\n",
            "assert\n",
            "async\n",
            "await\n",
            "break\n",
            "class\n",
            "continue\n",
            "def\n",
            "del\n",
            "elif\n",
            "else\n",
            "except\n",
            "finally\n",
            "for\n",
            "from\n",
            "global\n",
            "if\n",
            "import\n",
            "in\n",
            "is\n",
            "lambda\n",
            "nonlocal\n",
            "not\n",
            "or\n",
            "pass\n",
            "raise\n",
            "return\n",
            "try\n",
            "while\n",
            "with\n",
            "yield\n"
          ]
        }
      ]
    },
    {
      "cell_type": "markdown",
      "source": [],
      "metadata": {
        "id": "Yympor1mFc92"
      }
    },
    {
      "cell_type": "markdown",
      "source": [
        "# 4) Write a program that checks if a given word is a Python keyword.\n"
      ],
      "metadata": {
        "id": "sc2rpXBeG6Rb"
      }
    },
    {
      "cell_type": "markdown",
      "source": [],
      "metadata": {
        "id": "kD8FHpBAFWfs"
      }
    },
    {
      "cell_type": "code",
      "source": [
        "Enter a word: while\n",
        "✅ 'while' is a Python keyword.\n",
        "\n",
        "Enter a word: hello\n",
        "❌ 'hello' is NOT a Python keyword.\n"
      ],
      "metadata": {
        "colab": {
          "base_uri": "https://localhost:8080/",
          "height": 106
        },
        "id": "tWLh8OVaIOD8",
        "outputId": "9ad36a43-d247-47d7-a3aa-64a4555c0e41"
      },
      "execution_count": 11,
      "outputs": [
        {
          "output_type": "error",
          "ename": "SyntaxError",
          "evalue": "invalid character '✅' (U+2705) (<ipython-input-11-342677903>, line 2)",
          "traceback": [
            "\u001b[0;36m  File \u001b[0;32m\"<ipython-input-11-342677903>\"\u001b[0;36m, line \u001b[0;32m2\u001b[0m\n\u001b[0;31m    ✅ 'while' is a Python keyword.\u001b[0m\n\u001b[0m    ^\u001b[0m\n\u001b[0;31mSyntaxError\u001b[0m\u001b[0;31m:\u001b[0m invalid character '✅' (U+2705)\n"
          ]
        }
      ]
    },
    {
      "cell_type": "markdown",
      "source": [
        "# 5) Create a list and tuple in Python, and demonstrate how attempting to change an element works differently for each."
      ],
      "metadata": {
        "id": "t-9yBlCoHN0W"
      }
    },
    {
      "cell_type": "code",
      "source": [
        "# Creating a list and a tuple\n",
        "my_list = [10, 20, 30]\n",
        "my_tuple = (10, 20, 30)\n",
        "\n",
        "# Modifying an element in the list (this will work)\n",
        "my_list[1] = 99\n",
        "print(\"Updated list:\", my_list)\n",
        "\n",
        "# Trying to modify an element in the tuple (this will raise an error)\n",
        "try:\n",
        "    my_tuple[1] = 99\n",
        "except TypeError as e:\n",
        "    print(\"Error when trying to modify tuple:\", e)\n"
      ],
      "metadata": {
        "colab": {
          "base_uri": "https://localhost:8080/"
        },
        "id": "4hCZotjIHeEo",
        "outputId": "0be0991a-da96-4f87-e448-22d6f51cd93f"
      },
      "execution_count": 12,
      "outputs": [
        {
          "output_type": "stream",
          "name": "stdout",
          "text": [
            "Updated list: [10, 99, 30]\n",
            "Error when trying to modify tuple: 'tuple' object does not support item assignment\n"
          ]
        }
      ]
    },
    {
      "cell_type": "markdown",
      "source": [
        "# 6) Write a function to demonstrate the behavior of mutable and immutable arguments.\n",
        "\n"
      ],
      "metadata": {
        "id": "iexnILxoERlU"
      }
    },
    {
      "cell_type": "code",
      "source": [
        "def modify_arguments(my_list, my_number):\n",
        "    # Modify the list (mutable)\n",
        "    my_list.append(100)\n",
        "    print(\"Inside function - modified list:\", my_list)\n",
        "\n",
        "    # Modify the number (immutable)\n",
        "    my_number += 10\n",
        "    print(\"Inside function - modified number:\", my_number)\n",
        "\n",
        "# Original data\n",
        "original_list = [1, 2, 3]\n",
        "original_number = 50\n",
        "\n",
        "# Call the function\n",
        "modify_arguments(original_list, original_number)\n",
        "\n",
        "# Show the results after function call\n",
        "print(\"Outside function - original list:\", original_list)\n",
        "print(\"Outside function - original number:\", original_number)\n"
      ],
      "metadata": {
        "colab": {
          "base_uri": "https://localhost:8080/"
        },
        "id": "-pat3o46Ih8i",
        "outputId": "3fb8a737-e58a-47f2-8bdf-e2dc9eeb09a9"
      },
      "execution_count": 13,
      "outputs": [
        {
          "output_type": "stream",
          "name": "stdout",
          "text": [
            "Inside function - modified list: [1, 2, 3, 100]\n",
            "Inside function - modified number: 60\n",
            "Outside function - original list: [1, 2, 3, 100]\n",
            "Outside function - original number: 50\n"
          ]
        }
      ]
    },
    {
      "cell_type": "markdown",
      "source": [
        "# 7) Write a program that performs basic arithmetic operations on two user-input numbers.\n",
        "\n"
      ],
      "metadata": {
        "id": "8hGLyFZFIlxi"
      }
    },
    {
      "cell_type": "code",
      "source": [
        "# Get input from the user\n",
        "num1 = float(input(\"Enter first number: \"))\n",
        "num2 = float(input(\"Enter second number: \"))\n",
        "\n",
        "# Perform arithmetic operations\n",
        "add = num1 + num2\n",
        "subtract = num1 - num2\n",
        "multiply = num1 * num2\n",
        "\n",
        "# Handle division carefully to avoid division by zero\n",
        "if num2 != 0:\n",
        "    divide = num1 / num2\n",
        "else:\n",
        "    divide = \"Undefined (cannot divide by zero)\"\n",
        "\n",
        "# Display the results\n",
        "print(\"\\nResults:\")\n",
        "print(\"Addition:\", add)\n",
        "print(\"Subtraction:\", subtract)\n",
        "print(\"Multiplication:\", multiply)\n",
        "print(\"Division:\", divide)\n"
      ],
      "metadata": {
        "colab": {
          "base_uri": "https://localhost:8080/"
        },
        "id": "plEKI6aHIrrj",
        "outputId": "188b41d9-44da-455f-868b-c401165b126f"
      },
      "execution_count": 14,
      "outputs": [
        {
          "output_type": "stream",
          "name": "stdout",
          "text": [
            "Enter first number: 10\n",
            "Enter second number: 2\n",
            "\n",
            "Results:\n",
            "Addition: 12.0\n",
            "Subtraction: 8.0\n",
            "Multiplication: 20.0\n",
            "Division: 5.0\n"
          ]
        }
      ]
    },
    {
      "cell_type": "markdown",
      "source": [
        "# 8) Write a program to demonstrate the use of logical operators."
      ],
      "metadata": {
        "id": "iDQDZ-zrJcj4"
      }
    },
    {
      "cell_type": "code",
      "source": [
        "# Demonstration of Logical Operators in Python\n",
        "\n",
        "# Take user input\n",
        "a = int(input(\"Enter the first number: \"))\n",
        "b = int(input(\"Enter the second number: \"))\n",
        "\n",
        "# Logical AND\n",
        "if a > 0 and b > 0:\n",
        "    print(\"Both numbers are positive.\")\n",
        "else:\n",
        "    print(\"At least one number is not positive.\")\n",
        "\n",
        "# Logical OR\n",
        "if a > 0 or b > 0:\n",
        "    print(\"At least one number is positive.\")\n",
        "else:\n",
        "    print(\"Neither number is positive.\")\n",
        "\n",
        "# Logical NOT\n",
        "print(\"Demonstrating NOT operator:\")\n",
        "print(\"not(a > b):\", not(a > b))\n"
      ],
      "metadata": {
        "colab": {
          "base_uri": "https://localhost:8080/"
        },
        "id": "BzTKsHLlJiWz",
        "outputId": "de9cf715-d20d-4729-c5b9-d3623887a397"
      },
      "execution_count": 15,
      "outputs": [
        {
          "output_type": "stream",
          "name": "stdout",
          "text": [
            "Enter the first number: 2\n",
            "Enter the second number: 6\n",
            "Both numbers are positive.\n",
            "At least one number is positive.\n",
            "Demonstrating NOT operator:\n",
            "not(a > b): True\n"
          ]
        }
      ]
    },
    {
      "cell_type": "markdown",
      "source": [
        "# 9) Write a Python program to convert user input from string to integer, float, and boolean types."
      ],
      "metadata": {
        "id": "cj72QgSlJzMT"
      }
    },
    {
      "cell_type": "code",
      "source": [
        "# Get user input as a string\n",
        "user_input = input(\"Enter a value: \")\n",
        "\n",
        "# Convert to integer\n",
        "try:\n",
        "    int_value = int(user_input)\n",
        "    print(\"Integer value:\", int_value)\n",
        "except ValueError:\n",
        "    print(\"Cannot convert to integer.\")\n",
        "\n",
        "# Convert to float\n",
        "try:\n",
        "    float_value = float(user_input)\n",
        "    print(\"Float value:\", float_value)\n",
        "except ValueError:\n",
        "    print(\"Cannot convert to float.\")\n",
        "\n",
        "# Convert to boolean\n",
        "# Any non-empty string (except \"False\", \"false\", \"0\") is treated as True\n",
        "true_values = ['true', '1', 'yes', 'on']\n",
        "false_values = ['false', '0', 'no', 'off']\n",
        "\n",
        "lower_input = user_input.strip().lower()\n",
        "\n",
        "if lower_input in true_values:\n",
        "    bool_value = True\n",
        "elif lower_input in false_values:\n",
        "    bool_value = False\n",
        "else:\n",
        "    bool_value = bool(user_input)\n",
        "\n",
        "print(\"Boolean value:\", bool_value)\n"
      ],
      "metadata": {
        "colab": {
          "base_uri": "https://localhost:8080/"
        },
        "id": "HQWAah4qJ7XB",
        "outputId": "b2718323-93f6-4a61-dd38-1cb5a13d5d98"
      },
      "execution_count": 17,
      "outputs": [
        {
          "output_type": "stream",
          "name": "stdout",
          "text": [
            "Enter a value: 1220\n",
            "Integer value: 1220\n",
            "Float value: 1220.0\n",
            "Boolean value: True\n"
          ]
        }
      ]
    },
    {
      "cell_type": "markdown",
      "source": [
        "# 10)  Write code to demonstrate type casting with list elements"
      ],
      "metadata": {
        "id": "T6IXRmLPKNCx"
      }
    },
    {
      "cell_type": "code",
      "source": [
        "# Original list with strings representing numbers\n",
        "str_list = ['1', '2', '3', '4', '5']\n",
        "\n",
        "# Type casting string elements to integers\n",
        "int_list = [int(element) for element in str_list]\n",
        "\n",
        "print(\"Original list (strings):\", str_list)\n",
        "print(\"Type casted list (integers):\", int_list)\n",
        "\n",
        "# Further type casting to float\n",
        "float_list = [float(element) for element in int_list]\n",
        "print(\"Type casted list (floats):\", float_list)\n"
      ],
      "metadata": {
        "colab": {
          "base_uri": "https://localhost:8080/"
        },
        "id": "G-D8o72NKZOc",
        "outputId": "627737b6-98c8-4757-b0a0-cabe377b96c9"
      },
      "execution_count": 18,
      "outputs": [
        {
          "output_type": "stream",
          "name": "stdout",
          "text": [
            "Original list (strings): ['1', '2', '3', '4', '5']\n",
            "Type casted list (integers): [1, 2, 3, 4, 5]\n",
            "Type casted list (floats): [1.0, 2.0, 3.0, 4.0, 5.0]\n"
          ]
        }
      ]
    },
    {
      "cell_type": "markdown",
      "source": [
        "# 11) Write a program that checks if a number is positive, negative, or zero."
      ],
      "metadata": {
        "id": "sZyWNdX6Kc4R"
      }
    },
    {
      "cell_type": "code",
      "source": [
        "# Program to check if a number is positive, negative, or zero\n",
        "\n",
        "# Input from the user\n",
        "num = float(input(\"Enter a number: \"))\n",
        "\n",
        "# Check the number\n",
        "if num > 0:\n",
        "    print(\"The number is positive.\")\n",
        "elif num < 0:\n",
        "    print(\"The number is negative.\")\n",
        "else:\n",
        "    print(\"The number is zero.\")\n"
      ],
      "metadata": {
        "colab": {
          "base_uri": "https://localhost:8080/"
        },
        "id": "d5-L79DyKiQZ",
        "outputId": "78ed841c-b973-4c32-cec9-5763837e1259"
      },
      "execution_count": 19,
      "outputs": [
        {
          "output_type": "stream",
          "name": "stdout",
          "text": [
            "Enter a number: 50\n",
            "The number is positive.\n"
          ]
        }
      ]
    },
    {
      "cell_type": "markdown",
      "source": [
        "# 12) Write a for loop to print numbers from 1 to 10."
      ],
      "metadata": {
        "id": "IoXtXYfLKvrp"
      }
    },
    {
      "cell_type": "code",
      "source": [
        "for i in range(1, 11):\n",
        "    print(i)\n"
      ],
      "metadata": {
        "colab": {
          "base_uri": "https://localhost:8080/"
        },
        "id": "-Ux0hjPEK1ZJ",
        "outputId": "4391cd5d-3e13-4d36-e7d3-ba1626fd8d1b"
      },
      "execution_count": 20,
      "outputs": [
        {
          "output_type": "stream",
          "name": "stdout",
          "text": [
            "1\n",
            "2\n",
            "3\n",
            "4\n",
            "5\n",
            "6\n",
            "7\n",
            "8\n",
            "9\n",
            "10\n"
          ]
        }
      ]
    },
    {
      "cell_type": "markdown",
      "source": [
        "# 13) Write a Python program to find the sum of all even numbers between 1 and 50"
      ],
      "metadata": {
        "id": "yOqjNssUK9CJ"
      }
    },
    {
      "cell_type": "code",
      "source": [
        "# Initialize the sum\n",
        "even_sum = 0\n",
        "\n",
        "# Loop through numbers from 1 to 50\n",
        "for number in range(1, 51):\n",
        "    if number % 2 == 0:\n",
        "        even_sum += number\n",
        "\n",
        "# Print the result\n",
        "print(\"The sum of all even numbers between 1 and 50 is:\", even_sum)\n"
      ],
      "metadata": {
        "colab": {
          "base_uri": "https://localhost:8080/"
        },
        "id": "OnCeCyzbLD8q",
        "outputId": "7fbd773d-0438-41d1-8905-c69f08f33ccc"
      },
      "execution_count": 21,
      "outputs": [
        {
          "output_type": "stream",
          "name": "stdout",
          "text": [
            "The sum of all even numbers between 1 and 50 is: 650\n"
          ]
        }
      ]
    },
    {
      "cell_type": "markdown",
      "source": [
        "# 14)  Write a program to reverse a string using a while loop."
      ],
      "metadata": {
        "id": "MUOl7B00LQpo"
      }
    },
    {
      "cell_type": "code",
      "source": [
        "# Input string\n",
        "text = input(\"Enter a string: \")\n",
        "\n",
        "# Initialize variables\n",
        "reversed_text = \"\"\n",
        "index = len(text) - 1\n",
        "\n",
        "# Use while loop to reverse the string\n",
        "while index >= 0:\n",
        "    reversed_text += text[index]\n",
        "    index -= 1\n",
        "\n",
        "# Output the reversed string\n",
        "print(\"Reversed string:\", reversed_text)\n"
      ],
      "metadata": {
        "colab": {
          "base_uri": "https://localhost:8080/"
        },
        "id": "sGNgL77DLaua",
        "outputId": "66483449-f210-4ed5-8fc8-f003d99765d3"
      },
      "execution_count": 22,
      "outputs": [
        {
          "output_type": "stream",
          "name": "stdout",
          "text": [
            "Enter a string: Hello\n",
            "Reversed string: olleH\n"
          ]
        }
      ]
    },
    {
      "cell_type": "markdown",
      "source": [
        "# 15)  Write a Python program to calculate the factorial of a number provided by the user using a while loop."
      ],
      "metadata": {
        "id": "HJfY-BcBLi34"
      }
    },
    {
      "cell_type": "code",
      "source": [
        "# Get input from the user\n",
        "num = int(input(\"Enter a number to calculate its factorial: \"))\n",
        "\n",
        "# Initialize result and counter\n",
        "factorial = 1\n",
        "i = 1\n",
        "\n",
        "# Check if the number is negative, zero or positive\n",
        "if num < 0:\n",
        "    print(\"Factorial does not exist for negative numbers.\")\n",
        "elif num == 0:\n",
        "    print(\"The factorial of 0 is 1.\")\n",
        "else:\n",
        "    # Calculate factorial using while loop\n",
        "    while i <= num:\n",
        "        factorial *= i\n",
        "        i += 1\n",
        "    print(f\"The factorial of {num} is {factorial}.\")\n"
      ],
      "metadata": {
        "colab": {
          "base_uri": "https://localhost:8080/"
        },
        "id": "hqRAcO3JLuLA",
        "outputId": "07a56fa5-3617-4fe1-e4b9-93735a6337eb"
      },
      "execution_count": 23,
      "outputs": [
        {
          "output_type": "stream",
          "name": "stdout",
          "text": [
            "Enter a number to calculate its factorial: 5\n",
            "The factorial of 5 is 120.\n"
          ]
        }
      ]
    }
  ]
}